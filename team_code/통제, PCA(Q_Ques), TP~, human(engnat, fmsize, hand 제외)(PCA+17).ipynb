{
 "cells": [
  {
   "cell_type": "code",
   "execution_count": 1,
   "metadata": {},
   "outputs": [],
   "source": [
    "# PCA(Q_Ques), 통제변수, tpscore, human(engnat, familysize, hand 제외)\n",
    "# LabelEncoding, Scaling"
   ]
  },
  {
   "cell_type": "code",
   "execution_count": 48,
   "metadata": {},
   "outputs": [],
   "source": [
    "# 1. 데이터 세팅\n",
    "# 1) data loading\n",
    "df1 = pd.read_csv('/Users/harryjeong/python_data/maki_train.csv', index_col = 0) \n",
    "df2 = pd.read_csv('/Users/harryjeong/python_data/maki_test_x.csv', index_col = 0)\n",
    "submission = pd.read_csv('/Users/harryjeong/python_data/sample_submission.csv', index_col = 0)"
   ]
  },
  {
   "cell_type": "code",
   "execution_count": 49,
   "metadata": {},
   "outputs": [],
   "source": [
    "# 2) labelencoding\n",
    "from sklearn.preprocessing import LabelEncoder\n",
    "label = LabelEncoder()\n",
    "df1['gender_code'] = label.fit_transform(df1['gender'])\n",
    "df1['age_group_code'] = label.fit_transform(df1['age_group'])\n",
    "df1['race_code'] = label.fit_transform(df1['race'])\n",
    "df1['religion_code'] = label.fit_transform(df1['religion'])\n",
    "\n",
    "df2['gender_code'] = label.fit_transform(df2['gender'])\n",
    "df2['age_group_code'] = label.fit_transform(df2['age_group'])\n",
    "df2['race_code'] = label.fit_transform(df2['race'])\n",
    "df2['religion_code'] = label.fit_transform(df2['religion'])\n",
    "\n",
    "# 라벨링한 변수들의 이전 형태는 제거\n",
    "drop = ['gender','age_group','race','religion']\n",
    "df1 = df1.drop(drop, axis = 1)\n",
    "df2 = df2.drop(drop, axis = 1)"
   ]
  },
  {
   "cell_type": "code",
   "execution_count": 50,
   "metadata": {},
   "outputs": [],
   "source": [
    "# 3) 변수제거1 : Q_Time 제거\n",
    "# Q_Ques : Q 변수 중 질문만\n",
    "Q_Ques = ['QaA', 'QbA', 'QcA', 'QdA', 'QeA', 'QfA', 'QgA', 'QhA', 'QiA', 'QjA', \n",
    "           'QkA', 'QlA', 'QmA', 'QnA', 'QoA', 'QpA', 'QqA', 'QrA', 'QsA', 'QtA']\n",
    "\n",
    "# Q_Time : Q 변수 중 소요시간만\n",
    "Q_Time = ['QaE', 'QbE', 'QcE', 'QdE', 'QeE', 'QfE', 'QgE', 'QhE', 'QiE', 'QkE',\n",
    "          'QjE', 'QlE', 'QmE', 'QnE', 'QoE', 'QpE', 'QqE', 'QrE', 'QsE', 'QtE']\n",
    "\n",
    "# scoring 했기에 기존 데이터는 삭제 (Q_Time)\n",
    "df1 = df1.drop(Q_Time, axis = 1)\n",
    "df2 = df2.drop(Q_Time, axis = 1)"
   ]
  },
  {
   "cell_type": "code",
   "execution_count": 51,
   "metadata": {},
   "outputs": [],
   "source": [
    "# 5) 변수제거 2 : W 변수 제거\n",
    "w_Whole = ['wf_01', 'wf_02', 'wf_03', 'wr_01', 'wr_02', 'wr_03', 'wr_04', 'wr_05', 'wr_06', 'wr_07',\n",
    "           'wr_08', 'wr_09', 'wr_10', 'wr_11', 'wr_12', 'wr_13']\n",
    "wf_Ques = ['wf_01', 'wf_02', 'wf_03']\n",
    "wr_Ques = ['wr_01', 'wr_02', 'wr_03', 'wr_04', 'wr_05', 'wr_06', 'wr_07',\n",
    "           'wr_08', 'wr_09', 'wr_10', 'wr_11', 'wr_12', 'wr_13']\n",
    "\n",
    "df1 = df1.drop(w_Whole, axis = 1)    # w_Whole 제거\n",
    "df2 = df2.drop(w_Whole, axis = 1)    # w_Whole 제거"
   ]
  },
  {
   "cell_type": "code",
   "execution_count": 52,
   "metadata": {},
   "outputs": [],
   "source": [
    "# 6) 변수제거 3 : hand, familysize 제거 (engnat는 카운트 위에 남겨둠)\n",
    "df1 = df1.drop(['hand', 'familysize'], axis = 1)     \n",
    "df2 = df2.drop(['hand', 'familysize'], axis = 1)"
   ]
  },
  {
   "cell_type": "code",
   "execution_count": 53,
   "metadata": {},
   "outputs": [],
   "source": [
    "# 7) 독립, 종속변수 분리\n",
    "x = df1.drop('voted', axis = 1)\n",
    "y = df1['voted']"
   ]
  },
  {
   "cell_type": "code",
   "execution_count": 54,
   "metadata": {},
   "outputs": [],
   "source": [
    "# 2. 통제변수\n",
    "# => 인구통계학 같은 행만 모아서 로지스틱 회귀분석\n",
    "# 1) 변수 뽑아내기\n",
    "human = ['education', 'engnat', 'married', 'urban', 'gender_code', 'age_group_code',\n",
    "         'race_code', 'religion_code']\n",
    "\n",
    "human_df = x[human]\n",
    "\n",
    "# 인구통계학 변수 통제한 동일행 추출\n",
    "human_df_1 = human_df.groupby(['education', 'religion_code', 'married', \n",
    "                               'urban', 'gender_code', 'age_group_code',\n",
    "                               'race_code']).count().loc[:, ['engnat']]\n",
    "\n",
    "# 동일행은 499개\n",
    "human_df_1[human_df_1['engnat'] == 499]\n",
    "             \n",
    "# 동일행이 가지고 있는 각 컬럼의 값    \n",
    "# education religion_code married urban gender_code age_group_code race_code        \n",
    "# 2         1             1       2     1           1              6         \n",
    "\n",
    "# 위 컬럼 값을 대입하여 499개 행을 찾아냄\n",
    "h_control_index = x.loc[x.education == 2, :].loc[x.religion_code == 1, :].loc[x.married == 1, :].loc[x.urban == 2, :].loc[x.gender_code == 1, :].loc[x.age_group_code == 1, :].loc[x.race_code == 6, :].index.tolist()"
   ]
  },
  {
   "cell_type": "code",
   "execution_count": 55,
   "metadata": {},
   "outputs": [
    {
     "data": {
      "text/html": [
       "<div>\n",
       "<style scoped>\n",
       "    .dataframe tbody tr th:only-of-type {\n",
       "        vertical-align: middle;\n",
       "    }\n",
       "\n",
       "    .dataframe tbody tr th {\n",
       "        vertical-align: top;\n",
       "    }\n",
       "\n",
       "    .dataframe thead th {\n",
       "        text-align: right;\n",
       "    }\n",
       "</style>\n",
       "<table border=\"1\" class=\"dataframe\">\n",
       "  <thead>\n",
       "    <tr style=\"text-align: right;\">\n",
       "      <th></th>\n",
       "      <th></th>\n",
       "      <th></th>\n",
       "      <th></th>\n",
       "      <th></th>\n",
       "      <th></th>\n",
       "      <th></th>\n",
       "      <th>engnat</th>\n",
       "    </tr>\n",
       "    <tr>\n",
       "      <th>education</th>\n",
       "      <th>religion_code</th>\n",
       "      <th>married</th>\n",
       "      <th>urban</th>\n",
       "      <th>gender_code</th>\n",
       "      <th>age_group_code</th>\n",
       "      <th>race_code</th>\n",
       "      <th></th>\n",
       "    </tr>\n",
       "  </thead>\n",
       "  <tbody>\n",
       "    <tr>\n",
       "      <th rowspan=\"5\" valign=\"top\">0</th>\n",
       "      <th rowspan=\"5\" valign=\"top\">0</th>\n",
       "      <th rowspan=\"5\" valign=\"top\">1</th>\n",
       "      <th rowspan=\"5\" valign=\"top\">1</th>\n",
       "      <th rowspan=\"4\" valign=\"top\">0</th>\n",
       "      <th>1</th>\n",
       "      <th>6</th>\n",
       "      <td>3</td>\n",
       "    </tr>\n",
       "    <tr>\n",
       "      <th>2</th>\n",
       "      <th>6</th>\n",
       "      <td>5</td>\n",
       "    </tr>\n",
       "    <tr>\n",
       "      <th>3</th>\n",
       "      <th>6</th>\n",
       "      <td>3</td>\n",
       "    </tr>\n",
       "    <tr>\n",
       "      <th>4</th>\n",
       "      <th>6</th>\n",
       "      <td>1</td>\n",
       "    </tr>\n",
       "    <tr>\n",
       "      <th>1</th>\n",
       "      <th>1</th>\n",
       "      <th>4</th>\n",
       "      <td>1</td>\n",
       "    </tr>\n",
       "    <tr>\n",
       "      <th>...</th>\n",
       "      <th>...</th>\n",
       "      <th>...</th>\n",
       "      <th>...</th>\n",
       "      <th>...</th>\n",
       "      <th>...</th>\n",
       "      <th>...</th>\n",
       "      <td>...</td>\n",
       "    </tr>\n",
       "    <tr>\n",
       "      <th rowspan=\"5\" valign=\"top\">4</th>\n",
       "      <th rowspan=\"5\" valign=\"top\">11</th>\n",
       "      <th rowspan=\"4\" valign=\"top\">2</th>\n",
       "      <th>2</th>\n",
       "      <th>0</th>\n",
       "      <th>2</th>\n",
       "      <th>1</th>\n",
       "      <td>1</td>\n",
       "    </tr>\n",
       "    <tr>\n",
       "      <th rowspan=\"3\" valign=\"top\">3</th>\n",
       "      <th>0</th>\n",
       "      <th>4</th>\n",
       "      <th>1</th>\n",
       "      <td>1</td>\n",
       "    </tr>\n",
       "    <tr>\n",
       "      <th rowspan=\"2\" valign=\"top\">1</th>\n",
       "      <th>2</th>\n",
       "      <th>1</th>\n",
       "      <td>1</td>\n",
       "    </tr>\n",
       "    <tr>\n",
       "      <th>4</th>\n",
       "      <th>1</th>\n",
       "      <td>1</td>\n",
       "    </tr>\n",
       "    <tr>\n",
       "      <th>3</th>\n",
       "      <th>1</th>\n",
       "      <th>1</th>\n",
       "      <th>4</th>\n",
       "      <th>1</th>\n",
       "      <td>1</td>\n",
       "    </tr>\n",
       "  </tbody>\n",
       "</table>\n",
       "<p>6597 rows × 1 columns</p>\n",
       "</div>"
      ],
      "text/plain": [
       "                                                                            engnat\n",
       "education religion_code married urban gender_code age_group_code race_code        \n",
       "0         0             1       1     0           1              6               3\n",
       "                                                  2              6               5\n",
       "                                                  3              6               3\n",
       "                                                  4              6               1\n",
       "                                      1           1              4               1\n",
       "...                                                                            ...\n",
       "4         11            2       2     0           2              1               1\n",
       "                                3     0           4              1               1\n",
       "                                      1           2              1               1\n",
       "                                                  4              1               1\n",
       "                        3       1     1           4              1               1\n",
       "\n",
       "[6597 rows x 1 columns]"
      ]
     },
     "execution_count": 55,
     "metadata": {},
     "output_type": "execute_result"
    }
   ],
   "source": [
    "human_df_1"
   ]
  },
  {
   "cell_type": "code",
   "execution_count": 16,
   "metadata": {},
   "outputs": [],
   "source": [
    "# 2) scaling\n",
    "from sklearn.preprocessing import StandardScaler as standard\n",
    "m_sc = standard()\n",
    "m_sc.fit(x)\n",
    "x = DataFrame(m_sc.transform(x), columns = x.columns)\n",
    "df2 = DataFrame(m_sc.transform(df2), columns = df2.columns)"
   ]
  },
  {
   "cell_type": "code",
   "execution_count": 17,
   "metadata": {},
   "outputs": [],
   "source": [
    "# 3) 전체 데이터에서 499개 행 찾아냄\n",
    "x_h_control = x.loc[h_control_index, :]\n",
    "y_h_control = y.loc[h_control_index]"
   ]
  },
  {
   "cell_type": "code",
   "execution_count": 18,
   "metadata": {},
   "outputs": [],
   "source": [
    "# 4) 499개 행 데이터에서 human 변수 제거\n",
    "x_h_control = x_h_control.drop(['education', 'religion_code', 'engnat', \n",
    "                                'married', 'urban', 'gender_code',\n",
    "                                'age_group_code', 'race_code'], axis = 1)\n",
    "\n",
    "x = x.drop(['education', 'religion_code', 'engnat', 'married', 'urban',\n",
    "            'gender_code', 'age_group_code', 'race_code'], axis = 1)\n",
    "\n",
    "df2_1 = df2.drop(['education', 'religion_code', 'engnat', 'married', 'urban',\n",
    "                'gender_code', 'age_group_code', 'race_code'], axis = 1)"
   ]
  },
  {
   "cell_type": "code",
   "execution_count": 19,
   "metadata": {},
   "outputs": [],
   "source": [
    "# 5) 499개 행 데이터에서 TP~ 변수 제거 for PCA\n",
    "fea2 = ['tp01','tp02','tp03','tp04','tp05','tp06','tp07','tp08','tp09','tp10']\n",
    "\n",
    "x_h_control = x_h_control.drop(fea2, axis = 1)\n",
    "x = x.drop(fea2, axis = 1)\n",
    "df2_1 = df2_1.drop(fea2, axis = 1)"
   ]
  },
  {
   "cell_type": "code",
   "execution_count": 23,
   "metadata": {},
   "outputs": [
    {
     "data": {
      "text/html": [
       "<div>\n",
       "<style scoped>\n",
       "    .dataframe tbody tr th:only-of-type {\n",
       "        vertical-align: middle;\n",
       "    }\n",
       "\n",
       "    .dataframe tbody tr th {\n",
       "        vertical-align: top;\n",
       "    }\n",
       "\n",
       "    .dataframe thead th {\n",
       "        text-align: right;\n",
       "    }\n",
       "</style>\n",
       "<table border=\"1\" class=\"dataframe\">\n",
       "  <thead>\n",
       "    <tr style=\"text-align: right;\">\n",
       "      <th></th>\n",
       "      <th>QaA</th>\n",
       "      <th>QbA</th>\n",
       "      <th>QcA</th>\n",
       "      <th>QdA</th>\n",
       "      <th>QeA</th>\n",
       "      <th>QfA</th>\n",
       "      <th>QgA</th>\n",
       "      <th>QhA</th>\n",
       "      <th>QiA</th>\n",
       "      <th>QjA</th>\n",
       "      <th>QkA</th>\n",
       "      <th>QlA</th>\n",
       "      <th>QmA</th>\n",
       "      <th>QnA</th>\n",
       "      <th>QoA</th>\n",
       "      <th>QpA</th>\n",
       "      <th>QqA</th>\n",
       "      <th>QrA</th>\n",
       "      <th>QsA</th>\n",
       "      <th>QtA</th>\n",
       "    </tr>\n",
       "  </thead>\n",
       "  <tbody>\n",
       "    <tr>\n",
       "      <th>121</th>\n",
       "      <td>-0.108222</td>\n",
       "      <td>-1.216035</td>\n",
       "      <td>-0.462702</td>\n",
       "      <td>1.198646</td>\n",
       "      <td>-0.232219</td>\n",
       "      <td>-0.124678</td>\n",
       "      <td>0.952880</td>\n",
       "      <td>-0.902214</td>\n",
       "      <td>-0.106424</td>\n",
       "      <td>-1.157452</td>\n",
       "      <td>0.135564</td>\n",
       "      <td>0.587869</td>\n",
       "      <td>-1.09781</td>\n",
       "      <td>-0.429663</td>\n",
       "      <td>-1.501785</td>\n",
       "      <td>-1.390692</td>\n",
       "      <td>0.113603</td>\n",
       "      <td>0.825990</td>\n",
       "      <td>-1.769516</td>\n",
       "      <td>-0.805533</td>\n",
       "    </tr>\n",
       "    <tr>\n",
       "      <th>221</th>\n",
       "      <td>-0.943687</td>\n",
       "      <td>0.699521</td>\n",
       "      <td>0.235877</td>\n",
       "      <td>-0.717773</td>\n",
       "      <td>-0.232219</td>\n",
       "      <td>-0.124678</td>\n",
       "      <td>0.952880</td>\n",
       "      <td>-0.902214</td>\n",
       "      <td>0.568465</td>\n",
       "      <td>0.311835</td>\n",
       "      <td>-1.321593</td>\n",
       "      <td>0.587869</td>\n",
       "      <td>0.35661</td>\n",
       "      <td>0.249221</td>\n",
       "      <td>-1.501785</td>\n",
       "      <td>0.623099</td>\n",
       "      <td>0.825689</td>\n",
       "      <td>-0.578142</td>\n",
       "      <td>1.139738</td>\n",
       "      <td>0.508885</td>\n",
       "    </tr>\n",
       "    <tr>\n",
       "      <th>431</th>\n",
       "      <td>0.727242</td>\n",
       "      <td>0.699521</td>\n",
       "      <td>0.934456</td>\n",
       "      <td>0.240436</td>\n",
       "      <td>-0.232219</td>\n",
       "      <td>-0.124678</td>\n",
       "      <td>0.952880</td>\n",
       "      <td>1.836017</td>\n",
       "      <td>0.568465</td>\n",
       "      <td>-1.157452</td>\n",
       "      <td>0.864143</td>\n",
       "      <td>0.587869</td>\n",
       "      <td>1.08382</td>\n",
       "      <td>0.928105</td>\n",
       "      <td>1.207512</td>\n",
       "      <td>-1.390692</td>\n",
       "      <td>0.113603</td>\n",
       "      <td>1.528056</td>\n",
       "      <td>0.412424</td>\n",
       "      <td>-0.805533</td>\n",
       "    </tr>\n",
       "    <tr>\n",
       "      <th>681</th>\n",
       "      <td>-0.943687</td>\n",
       "      <td>0.699521</td>\n",
       "      <td>0.934456</td>\n",
       "      <td>-0.717773</td>\n",
       "      <td>1.228498</td>\n",
       "      <td>2.099789</td>\n",
       "      <td>-0.371111</td>\n",
       "      <td>0.466901</td>\n",
       "      <td>0.568465</td>\n",
       "      <td>1.046478</td>\n",
       "      <td>0.135564</td>\n",
       "      <td>0.587869</td>\n",
       "      <td>-0.37060</td>\n",
       "      <td>-1.108547</td>\n",
       "      <td>0.530188</td>\n",
       "      <td>1.294363</td>\n",
       "      <td>-1.310567</td>\n",
       "      <td>-1.280208</td>\n",
       "      <td>1.139738</td>\n",
       "      <td>1.166094</td>\n",
       "    </tr>\n",
       "    <tr>\n",
       "      <th>682</th>\n",
       "      <td>-0.943687</td>\n",
       "      <td>0.061002</td>\n",
       "      <td>0.235877</td>\n",
       "      <td>-0.717773</td>\n",
       "      <td>0.498140</td>\n",
       "      <td>-0.124678</td>\n",
       "      <td>-0.371111</td>\n",
       "      <td>-0.902214</td>\n",
       "      <td>-1.456203</td>\n",
       "      <td>1.046478</td>\n",
       "      <td>-0.593014</td>\n",
       "      <td>0.587869</td>\n",
       "      <td>1.08382</td>\n",
       "      <td>-1.108547</td>\n",
       "      <td>1.207512</td>\n",
       "      <td>1.294363</td>\n",
       "      <td>-1.310567</td>\n",
       "      <td>-1.280208</td>\n",
       "      <td>1.139738</td>\n",
       "      <td>0.508885</td>\n",
       "    </tr>\n",
       "    <tr>\n",
       "      <th>...</th>\n",
       "      <td>...</td>\n",
       "      <td>...</td>\n",
       "      <td>...</td>\n",
       "      <td>...</td>\n",
       "      <td>...</td>\n",
       "      <td>...</td>\n",
       "      <td>...</td>\n",
       "      <td>...</td>\n",
       "      <td>...</td>\n",
       "      <td>...</td>\n",
       "      <td>...</td>\n",
       "      <td>...</td>\n",
       "      <td>...</td>\n",
       "      <td>...</td>\n",
       "      <td>...</td>\n",
       "      <td>...</td>\n",
       "      <td>...</td>\n",
       "      <td>...</td>\n",
       "      <td>...</td>\n",
       "      <td>...</td>\n",
       "    </tr>\n",
       "    <tr>\n",
       "      <th>45097</th>\n",
       "      <td>-0.943687</td>\n",
       "      <td>1.338040</td>\n",
       "      <td>0.934456</td>\n",
       "      <td>-0.717773</td>\n",
       "      <td>-0.962578</td>\n",
       "      <td>-0.866167</td>\n",
       "      <td>-1.033107</td>\n",
       "      <td>1.151459</td>\n",
       "      <td>-1.456203</td>\n",
       "      <td>1.046478</td>\n",
       "      <td>-2.050171</td>\n",
       "      <td>0.587869</td>\n",
       "      <td>0.35661</td>\n",
       "      <td>-0.429663</td>\n",
       "      <td>1.207512</td>\n",
       "      <td>1.294363</td>\n",
       "      <td>-1.310567</td>\n",
       "      <td>0.123924</td>\n",
       "      <td>1.139738</td>\n",
       "      <td>1.166094</td>\n",
       "    </tr>\n",
       "    <tr>\n",
       "      <th>45102</th>\n",
       "      <td>1.562707</td>\n",
       "      <td>0.699521</td>\n",
       "      <td>0.934456</td>\n",
       "      <td>-0.717773</td>\n",
       "      <td>-0.962578</td>\n",
       "      <td>2.099789</td>\n",
       "      <td>1.614876</td>\n",
       "      <td>1.151459</td>\n",
       "      <td>1.243355</td>\n",
       "      <td>0.311835</td>\n",
       "      <td>0.864143</td>\n",
       "      <td>0.587869</td>\n",
       "      <td>0.35661</td>\n",
       "      <td>1.606989</td>\n",
       "      <td>-1.501785</td>\n",
       "      <td>-1.390692</td>\n",
       "      <td>0.113603</td>\n",
       "      <td>0.825990</td>\n",
       "      <td>0.412424</td>\n",
       "      <td>-1.462741</td>\n",
       "    </tr>\n",
       "    <tr>\n",
       "      <th>45167</th>\n",
       "      <td>-0.943687</td>\n",
       "      <td>0.699521</td>\n",
       "      <td>0.235877</td>\n",
       "      <td>0.240436</td>\n",
       "      <td>-0.232219</td>\n",
       "      <td>-0.866167</td>\n",
       "      <td>-0.371111</td>\n",
       "      <td>0.466901</td>\n",
       "      <td>-0.781314</td>\n",
       "      <td>-0.422809</td>\n",
       "      <td>-0.593014</td>\n",
       "      <td>0.587869</td>\n",
       "      <td>0.35661</td>\n",
       "      <td>-0.429663</td>\n",
       "      <td>0.530188</td>\n",
       "      <td>-0.719428</td>\n",
       "      <td>0.113603</td>\n",
       "      <td>-0.578142</td>\n",
       "      <td>0.412424</td>\n",
       "      <td>0.508885</td>\n",
       "    </tr>\n",
       "    <tr>\n",
       "      <th>45288</th>\n",
       "      <td>-0.943687</td>\n",
       "      <td>-0.577517</td>\n",
       "      <td>0.934456</td>\n",
       "      <td>-0.717773</td>\n",
       "      <td>0.498140</td>\n",
       "      <td>-0.866167</td>\n",
       "      <td>-1.033107</td>\n",
       "      <td>-0.902214</td>\n",
       "      <td>0.568465</td>\n",
       "      <td>0.311835</td>\n",
       "      <td>0.864143</td>\n",
       "      <td>0.587869</td>\n",
       "      <td>0.35661</td>\n",
       "      <td>0.928105</td>\n",
       "      <td>-1.501785</td>\n",
       "      <td>0.623099</td>\n",
       "      <td>0.113603</td>\n",
       "      <td>0.123924</td>\n",
       "      <td>0.412424</td>\n",
       "      <td>-1.462741</td>\n",
       "    </tr>\n",
       "    <tr>\n",
       "      <th>45361</th>\n",
       "      <td>-0.108222</td>\n",
       "      <td>-0.577517</td>\n",
       "      <td>-1.161281</td>\n",
       "      <td>0.240436</td>\n",
       "      <td>-0.962578</td>\n",
       "      <td>-0.124678</td>\n",
       "      <td>0.952880</td>\n",
       "      <td>1.151459</td>\n",
       "      <td>-0.781314</td>\n",
       "      <td>-0.422809</td>\n",
       "      <td>0.135564</td>\n",
       "      <td>0.587869</td>\n",
       "      <td>-1.09781</td>\n",
       "      <td>-0.429663</td>\n",
       "      <td>0.530188</td>\n",
       "      <td>-0.719428</td>\n",
       "      <td>-0.598482</td>\n",
       "      <td>0.825990</td>\n",
       "      <td>0.412424</td>\n",
       "      <td>-0.148324</td>\n",
       "    </tr>\n",
       "  </tbody>\n",
       "</table>\n",
       "<p>499 rows × 20 columns</p>\n",
       "</div>"
      ],
      "text/plain": [
       "            QaA       QbA       QcA       QdA       QeA       QfA       QgA  \\\n",
       "121   -0.108222 -1.216035 -0.462702  1.198646 -0.232219 -0.124678  0.952880   \n",
       "221   -0.943687  0.699521  0.235877 -0.717773 -0.232219 -0.124678  0.952880   \n",
       "431    0.727242  0.699521  0.934456  0.240436 -0.232219 -0.124678  0.952880   \n",
       "681   -0.943687  0.699521  0.934456 -0.717773  1.228498  2.099789 -0.371111   \n",
       "682   -0.943687  0.061002  0.235877 -0.717773  0.498140 -0.124678 -0.371111   \n",
       "...         ...       ...       ...       ...       ...       ...       ...   \n",
       "45097 -0.943687  1.338040  0.934456 -0.717773 -0.962578 -0.866167 -1.033107   \n",
       "45102  1.562707  0.699521  0.934456 -0.717773 -0.962578  2.099789  1.614876   \n",
       "45167 -0.943687  0.699521  0.235877  0.240436 -0.232219 -0.866167 -0.371111   \n",
       "45288 -0.943687 -0.577517  0.934456 -0.717773  0.498140 -0.866167 -1.033107   \n",
       "45361 -0.108222 -0.577517 -1.161281  0.240436 -0.962578 -0.124678  0.952880   \n",
       "\n",
       "            QhA       QiA       QjA       QkA       QlA      QmA       QnA  \\\n",
       "121   -0.902214 -0.106424 -1.157452  0.135564  0.587869 -1.09781 -0.429663   \n",
       "221   -0.902214  0.568465  0.311835 -1.321593  0.587869  0.35661  0.249221   \n",
       "431    1.836017  0.568465 -1.157452  0.864143  0.587869  1.08382  0.928105   \n",
       "681    0.466901  0.568465  1.046478  0.135564  0.587869 -0.37060 -1.108547   \n",
       "682   -0.902214 -1.456203  1.046478 -0.593014  0.587869  1.08382 -1.108547   \n",
       "...         ...       ...       ...       ...       ...      ...       ...   \n",
       "45097  1.151459 -1.456203  1.046478 -2.050171  0.587869  0.35661 -0.429663   \n",
       "45102  1.151459  1.243355  0.311835  0.864143  0.587869  0.35661  1.606989   \n",
       "45167  0.466901 -0.781314 -0.422809 -0.593014  0.587869  0.35661 -0.429663   \n",
       "45288 -0.902214  0.568465  0.311835  0.864143  0.587869  0.35661  0.928105   \n",
       "45361  1.151459 -0.781314 -0.422809  0.135564  0.587869 -1.09781 -0.429663   \n",
       "\n",
       "            QoA       QpA       QqA       QrA       QsA       QtA  \n",
       "121   -1.501785 -1.390692  0.113603  0.825990 -1.769516 -0.805533  \n",
       "221   -1.501785  0.623099  0.825689 -0.578142  1.139738  0.508885  \n",
       "431    1.207512 -1.390692  0.113603  1.528056  0.412424 -0.805533  \n",
       "681    0.530188  1.294363 -1.310567 -1.280208  1.139738  1.166094  \n",
       "682    1.207512  1.294363 -1.310567 -1.280208  1.139738  0.508885  \n",
       "...         ...       ...       ...       ...       ...       ...  \n",
       "45097  1.207512  1.294363 -1.310567  0.123924  1.139738  1.166094  \n",
       "45102 -1.501785 -1.390692  0.113603  0.825990  0.412424 -1.462741  \n",
       "45167  0.530188 -0.719428  0.113603 -0.578142  0.412424  0.508885  \n",
       "45288 -1.501785  0.623099  0.113603  0.123924  0.412424 -1.462741  \n",
       "45361  0.530188 -0.719428 -0.598482  0.825990  0.412424 -0.148324  \n",
       "\n",
       "[499 rows x 20 columns]"
      ]
     },
     "execution_count": 23,
     "metadata": {},
     "output_type": "execute_result"
    }
   ],
   "source": [
    "x_h_control"
   ]
  },
  {
   "cell_type": "code",
   "execution_count": 20,
   "metadata": {},
   "outputs": [],
   "source": [
    "# 3. PCA\n",
    "# 1) 인공변수 생성\n",
    "vscore = []\n",
    "for i in [0.4, 0.5, 0.6, 0.65, 0.7, 0.75, 0.8, 0.85, 0.9, 0.95] :\n",
    "    from sklearn.decomposition import PCA\n",
    "    m_pca = PCA(n_components = i)                 \n",
    "    m_pca.fit(x_h_control)                           # 499개의 통제된 데이터의 Q_Ques만 가지고 fitting\n",
    "    x_pca = m_pca.transform(x)                       # 위 fitting을 전체 Q_Ques에 적용하여 인공변수 뽑아냄\n",
    "    df2_pca = m_pca.transform(df2_1)                 # df2에도 똑같이 적용\n",
    "    \n",
    "    # 2) 인공변수 대입\n",
    "    # 인공변수만을 가지는 데이터프레임 d1, d2 생성\n",
    "    s1_columns = np.arange(1, len(x_pca[1]) + 1)\n",
    "    d1 = DataFrame(x_pca, columns = s1_columns)\n",
    "    d2 = DataFrame(df2_pca, columns = s1_columns)\n",
    "\n",
    "    # tpscore, human(engnat, familysize, hand 제외) 컬럼을 가지는 데이터프레임 col1, col2 생성\n",
    "    col1 = df1.drop(['voted'], axis = 1).drop(Q_Ques, axis = 1).drop('engnat', axis = 1)\n",
    "    col2 = df2.drop(Q_Ques, axis = 1).drop('engnat', axis = 1)\n",
    "\n",
    "    c1 = d1.columns.tolist()\n",
    "    c2 = col1.columns.tolist()\n",
    "    c3 = c1 + c2\n",
    "\n",
    "    # d1, d2에 나머지 컬럼데이터 추가\n",
    "    df1_new = DataFrame(np.hstack([d1, col1]), columns = c3)\n",
    "    # df1_new['y'] = y => automl용\n",
    "\n",
    "    df2_new = DataFrame(np.hstack([d2, col2]), columns = c3)    \n",
    "    \n",
    "    # 4. RF 모델적용 \n",
    "    # 1) test, train split\n",
    "    from sklearn.model_selection import train_test_split\n",
    "    train_x, test_x, train_y, test_y = train_test_split(df1_new,              \n",
    "                                                    y,               \n",
    "                                                    train_size = 0.7, \n",
    "                                                    random_state = 0)\n",
    "\n",
    "    # 2) 모델링\n",
    "    m_rf = rf(random_state = 0)\n",
    "    m_rf.fit(train_x, train_y)\n",
    "    vscore.append(m_rf.score(test_x, test_y))    # 0.6945 (i = 0.6, 6개 차원)"
   ]
  },
  {
   "cell_type": "code",
   "execution_count": 25,
   "metadata": {},
   "outputs": [
    {
     "data": {
      "text/plain": [
       "[1, 2, 3, 4, 5, 6, 7, 8, 9, 10, 11, 12, 13, 14, 15, 16, 17, 18]"
      ]
     },
     "execution_count": 25,
     "metadata": {},
     "output_type": "execute_result"
    }
   ],
   "source": [
    "c1"
   ]
  },
  {
   "cell_type": "code",
   "execution_count": 26,
   "metadata": {},
   "outputs": [
    {
     "data": {
      "text/plain": [
       "['education',\n",
       " 'married',\n",
       " 'tp01',\n",
       " 'tp02',\n",
       " 'tp03',\n",
       " 'tp04',\n",
       " 'tp05',\n",
       " 'tp06',\n",
       " 'tp07',\n",
       " 'tp08',\n",
       " 'tp09',\n",
       " 'tp10',\n",
       " 'urban',\n",
       " 'gender_code',\n",
       " 'age_group_code',\n",
       " 'race_code',\n",
       " 'religion_code']"
      ]
     },
     "execution_count": 26,
     "metadata": {},
     "output_type": "execute_result"
    }
   ],
   "source": [
    "c2"
   ]
  },
  {
   "cell_type": "code",
   "execution_count": 27,
   "metadata": {},
   "outputs": [
    {
     "data": {
      "text/plain": [
       "[0.6926061493411421,\n",
       " 0.6931918008784773,\n",
       " 0.6945827232796487,\n",
       " 0.6931185944363104,\n",
       " 0.6944363103953148,\n",
       " 0.6892386530014641,\n",
       " 0.6917276720351391,\n",
       " 0.6920204978038067,\n",
       " 0.690117130307467,\n",
       " 0.6915812591508053]"
      ]
     },
     "execution_count": 27,
     "metadata": {},
     "output_type": "execute_result"
    }
   ],
   "source": [
    "vscore"
   ]
  },
  {
   "cell_type": "code",
   "execution_count": 28,
   "metadata": {},
   "outputs": [
    {
     "data": {
      "text/plain": [
       "<matplotlib.legend.Legend at 0x13a22fa30>"
      ]
     },
     "execution_count": 28,
     "metadata": {},
     "output_type": "execute_result"
    },
    {
     "data": {
      "image/png": "[encoded data removed]",
      "text/plain": [
       "<Figure size 432x288 with 1 Axes>"
      ]
     },
     "metadata": {
      "needs_background": "light"
     },
     "output_type": "display_data"
    }
   ],
   "source": [
    "import matplotlib.pyplot as plt\n",
    "plt.plot([0.4, 0.5, 0.6, 0.65, 0.7, 0.75, 0.8, 0.85, 0.9, 0.95], vscore, label = 'vscore')\n",
    "plt.legend()"
   ]
  },
  {
   "cell_type": "code",
   "execution_count": 30,
   "metadata": {},
   "outputs": [
    {
     "data": {
      "text/plain": [
       "89    0.695774\n",
       "99    0.695335\n",
       "85    0.695159\n",
       "95    0.694984\n",
       "98    0.694896\n",
       "        ...   \n",
       "4     0.647545\n",
       "3     0.643503\n",
       "2     0.634279\n",
       "1     0.611526\n",
       "0     0.609418\n",
       "Length: 100, dtype: float64"
      ]
     },
     "execution_count": 30,
     "metadata": {},
     "output_type": "execute_result"
    }
   ],
   "source": [
    "# 3) 최적의 차원 개수로 실제 데이터 셋에 적용 및 제출 => 0.85\n",
    "# 3-1) 인공변수 생성\n",
    "from sklearn.decomposition import PCA\n",
    "m_pca = PCA(n_components = 0.6)                 \n",
    "m_pca.fit(x_h_control)                           # 499개의 통제된 데이터의 Q_Ques만 가지고 fitting\n",
    "x_pca = m_pca.transform(x)                       # 위 fitting을 전체 Q_Ques에 적용하여 인공변수 뽑아냄\n",
    "df2_pca = m_pca.transform(df2_1)                 # df2에도 똑같이 적용\n",
    "    \n",
    "# 3-2) 인공변수 대입\n",
    "# 인공변수만을 가지는 데이터프레임 d1, d2 생성\n",
    "s1_columns = np.arange(1, len(x_pca[1]) + 1)\n",
    "d1 = DataFrame(x_pca, columns = s1_columns)\n",
    "d2 = DataFrame(df2_pca, columns = s1_columns)\n",
    "\n",
    "# tpscore, human(engnat, familysize, hand 제외) 컬럼을 가지는 데이터프레임 col1, col2 생성\n",
    "col1 = df1.drop(['voted'], axis = 1).drop(Q_Ques, axis = 1).drop('engnat', axis = 1)\n",
    "col2 = df2.drop(Q_Ques, axis = 1).drop('engnat', axis = 1)\n",
    "\n",
    "c1 = d1.columns.tolist()\n",
    "c2 = col1.columns.tolist()\n",
    "c3 = c1 + c2\n",
    "\n",
    "# d1, d2에 나머지 컬럼데이터 추가\n",
    "df1_new = DataFrame(np.hstack([d1, col1]), columns = c3)\n",
    "# df1_new['y'] = y => automl용\n",
    "df2_new = DataFrame(np.hstack([d2, col2]), columns = c3)    \n",
    "\n",
    "# train_test_split\n",
    "train_x, test_x, train_y, test_y = train_test_split(df1_new, y, random_state= 0)\n",
    "\n",
    "v_score_te = [] ; v_score_tr = []\n",
    "for i in range(1, 101) :\n",
    "    m_rf = rf(random_state = 0, n_estimators = i)\n",
    "    m_rf.fit(train_x, train_y)\n",
    "    v_score_tr.append(m_rf.score(train_x, train_y))\n",
    "    v_score_te.append(m_rf.score(test_x, test_y))\n",
    "    \n",
    "max(v_score_te)    # 0.695774\n",
    "Series(v_score_te).sort_values(ascending = False)    # i = 90일때 best score    "
   ]
  },
  {
   "cell_type": "code",
   "execution_count": 31,
   "metadata": {},
   "outputs": [
    {
     "data": {
      "text/plain": [
       "<matplotlib.legend.Legend at 0x13a328100>"
      ]
     },
     "execution_count": 31,
     "metadata": {},
     "output_type": "execute_result"
    },
    {
     "data": {
      "image/png": "[encoded data removed]",
      "text/plain": [
       "<Figure size 432x288 with 1 Axes>"
      ]
     },
     "metadata": {
      "needs_background": "light"
     },
     "output_type": "display_data"
    }
   ],
   "source": [
    "import matplotlib.pyplot as plt\n",
    "plt.plot(np.arange(1, 101), v_score_tr, label = 'v_score_tr')\n",
    "plt.plot(np.arange(1, 101), v_score_te, label = 'v_score_te', color = 'red')\n",
    "plt.legend()    "
   ]
  },
  {
   "cell_type": "code",
   "execution_count": 34,
   "metadata": {},
   "outputs": [],
   "source": [
    "# RF\n",
    "m_rf = rf(random_state = 0, n_estimators = 90)\n",
    "m_rf.fit(df1_new, y)\n",
    "\n",
    "pred_y = m_rf.predict(df2_new)\n",
    "submission['voted'] = pred_y"
   ]
  },
  {
   "cell_type": "code",
   "execution_count": 35,
   "metadata": {},
   "outputs": [
    {
     "data": {
      "text/plain": [
       "455"
      ]
     },
     "execution_count": 35,
     "metadata": {},
     "output_type": "execute_result"
    }
   ],
   "source": [
    "sum(submission['voted'] == 1)"
   ]
  },
  {
   "cell_type": "code",
   "execution_count": 36,
   "metadata": {},
   "outputs": [
    {
     "data": {
      "text/plain": [
       "10928"
      ]
     },
     "execution_count": 36,
     "metadata": {},
     "output_type": "execute_result"
    }
   ],
   "source": [
    "sum(submission['voted'] == 2)"
   ]
  },
  {
   "cell_type": "code",
   "execution_count": null,
   "metadata": {},
   "outputs": [],
   "source": [
    "submission.to_csv('sample_submission_PCA2.csv')    # "
   ]
  }
 ],
 "metadata": {
  "kernelspec": {
   "display_name": "Python 3",
   "language": "python",
   "name": "python3"
  },
  "language_info": {
   "codemirror_mode": {
    "name": "ipython",
    "version": 3
   },
   "file_extension": ".py",
   "mimetype": "text/x-python",
   "name": "python",
   "nbconvert_exporter": "python",
   "pygments_lexer": "ipython3",
   "version": "3.8.6"
  }
 },
 "nbformat": 4,
 "nbformat_minor": 4
}
