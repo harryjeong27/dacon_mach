{
 "cells": [
  {
   "cell_type": "code",
   "execution_count": 18,
   "metadata": {},
   "outputs": [],
   "source": [
    "# 1 : 전체데이터, PCA(Q_Ques), TP~, Human (PCA + 20)"
   ]
  },
  {
   "cell_type": "code",
   "execution_count": 20,
   "metadata": {},
   "outputs": [],
   "source": [
    "import pandas as pd\n",
    "df1 = pd.read_csv('/Users/harryjeong/DA/DA_Project/KIC_Project/Data/maki_train.csv')\n",
    "df2 = pd.read_csv('/Users/harryjeong/DA/DA_Project/KIC_Project/Data/maki_test_x.csv')\n",
    "submission = pd.read_csv('/Users/harryjeong/DA/DA_Project/KIC_Project/Data/sample_submission.csv')"
   ]
  },
  {
   "cell_type": "code",
   "execution_count": 21,
   "metadata": {},
   "outputs": [],
   "source": [
    "# df1을 종속변수 독립변수로 분리\n",
    "train_y = df1.voted\n",
    "df1 = df1.drop('voted', axis = 1)"
   ]
  },
  {
   "cell_type": "code",
   "execution_count": 22,
   "metadata": {},
   "outputs": [],
   "source": [
    "# 제거할 변수 목록 저장\n",
    "drop1 = ['QaE', 'QbE', 'QcE', 'QdE', 'QeE', 'QfE', 'QgE', 'QhE', 'QiE', 'QkE',\n",
    "          'QjE', 'QlE', 'QmE', 'QnE', 'QoE', 'QpE', 'QqE', 'QrE', 'QsE','QtE',\n",
    "          'wf_01', 'wf_02', 'wf_03', 'wr_01', 'wr_02', 'wr_03', 'wr_04', 'wr_05',\n",
    "       'wr_06', 'wr_07', 'wr_08', 'wr_09', 'wr_10', 'wr_11', 'wr_12', 'wr_13' ]\n",
    "\n",
    "# df1, df2에서 위 목록 제거\n",
    "df1 = df1.drop(drop1,axis=1)\n",
    "df2 = df2.drop(drop1,axis=1)\n",
    "df1 = df1.iloc[:,1:]\n",
    "df2 = df2.iloc[:,1:]"
   ]
  },
  {
   "cell_type": "code",
   "execution_count": 23,
   "metadata": {},
   "outputs": [],
   "source": [
    "# 라벨인코더 \n",
    "from sklearn.preprocessing import LabelEncoder\n",
    "label = LabelEncoder()\n",
    "df1['gender_code'] = label.fit_transform(df1['gender'])\n",
    "df1['age_group_code'] = label.fit_transform(df1['age_group'])\n",
    "df1['race_code'] = label.fit_transform(df1['race'])\n",
    "df1['religion_code'] = label.fit_transform(df1['religion'])\n",
    "\n",
    "df2['gender_code'] = label.fit_transform(df2['gender'])\n",
    "df2['age_group_code'] = label.fit_transform(df2['age_group'])\n",
    "df2['race_code'] = label.fit_transform(df2['race'])\n",
    "df2['religion_code'] = label.fit_transform(df2['religion'])\n",
    "\n",
    "drop3= ['gender','age_group','race','religion']\n",
    "df1 = df1.drop(drop3,axis=1)\n",
    "df2= df2.drop(drop3,axis=1)"
   ]
  },
  {
   "cell_type": "code",
   "execution_count": 24,
   "metadata": {},
   "outputs": [],
   "source": [
    "# 스케일링\n",
    "from sklearn.preprocessing import StandardScaler as standard\n",
    "m_sc = standard()\n",
    "m_sc.fit(df1)\n",
    "train_x_sc = m_sc.transform(df1)\n",
    "test_x_sc = m_sc.transform(df2)\n",
    "\n",
    "# 데이터프레임으로 변경\n",
    "from pandas import DataFrame\n",
    "df1 = DataFrame(train_x_sc, columns = df1.columns.tolist())\n",
    "df2 = DataFrame(test_x_sc,columns = df1.columns.tolist())"
   ]
  },
  {
   "cell_type": "code",
   "execution_count": 25,
   "metadata": {},
   "outputs": [
    {
     "data": {
      "text/plain": [
       "Index(['QaA', 'QbA', 'QcA', 'QdA', 'QeA', 'QfA', 'QgA', 'QhA', 'QiA', 'QjA',\n",
       "       'QkA', 'QlA', 'QmA', 'QnA', 'QoA', 'QpA', 'QqA', 'QrA', 'QsA', 'QtA',\n",
       "       'education', 'engnat', 'familysize', 'hand', 'married', 'tp01', 'tp02',\n",
       "       'tp03', 'tp04', 'tp05', 'tp06', 'tp07', 'tp08', 'tp09', 'tp10', 'urban',\n",
       "       'gender_code', 'age_group_code', 'race_code', 'religion_code'],\n",
       "      dtype='object')"
      ]
     },
     "execution_count": 25,
     "metadata": {},
     "output_type": "execute_result"
    }
   ],
   "source": [
    "df1.columns"
   ]
  },
  {
   "cell_type": "code",
   "execution_count": 26,
   "metadata": {},
   "outputs": [],
   "source": [
    "# Q_Ques만 뽑아서 PCA 진행\n",
    "Q_Ques = ['QaA', 'QbA', 'QcA', 'QdA', 'QeA',\n",
    "           'QfA', 'QgA', 'QhA', 'QiA', 'QjA', \n",
    "           'QkA', 'QlA', 'QmA', 'QnA', 'QoA', \n",
    "           'QpA', 'QqA', 'QrA', 'QsA', 'QtA']\n",
    "\n",
    "# Q_Ques 선택한 변수 세팅\n",
    "qdf1 = df1.loc[:,Q_Ques]\n",
    "qdf2 = df2.loc[:,Q_Ques]\n",
    "\n",
    "# 추후 합해야 하므로 Q_Ques 제거한 변수 세팅\n",
    "df1 = df1.drop(Q_Ques,axis = 1)\n",
    "df2 = df2.drop(Q_Ques,axis = 1)"
   ]
  },
  {
   "cell_type": "code",
   "execution_count": 13,
   "metadata": {},
   "outputs": [],
   "source": [
    "# PCA\n",
    "import numpy as np\n",
    "vscore_te = []\n",
    "for i in [0.1, 0.2, 0.3, 0.4, 0.5, 0.6, 0.65, 0.7, 0.75, 0.8, 0.85, 0.9, 0.95] :\n",
    "    from sklearn.decomposition import PCA\n",
    "    m_pca = PCA(n_components = i)            # n_components : 인공변수 갯수 \n",
    "    m_pca.fit(qdf1)                       # y의 fitting 필요 없음 \n",
    "    \n",
    "    train_x_pca = m_pca.transform(qdf1)\n",
    "    test_x_pca = m_pca.transform(qdf2)\n",
    "    \n",
    "    s1_columns = np.arange(1, len(train_x_pca[1]) + 1)\n",
    "    train_x_pca = DataFrame(train_x_pca, columns = s1_columns)\n",
    "    test_x_pca = DataFrame(test_x_pca, columns = s1_columns)\n",
    "    \n",
    "    c1 = train_x_pca.columns.tolist()\n",
    "    c2 = df1.columns.tolist()\n",
    "    c3 = c1 + c2\n",
    "    \n",
    "    df1_new = DataFrame(np.hstack([train_x_pca, df1]), columns = c3)\n",
    "    df2_new = DataFrame(np.hstack([test_x_pca, df2]), columns = c3)\n",
    "    \n",
    "    # train_test_split \n",
    "    from sklearn.model_selection import train_test_split\n",
    "    train_x1, test_x1, train_y1, test_y1 = train_test_split(df1_new, train_y, random_state= 0)\n",
    "    \n",
    "    # RF\n",
    "    from sklearn.ensemble import RandomForestClassifier as rf_c\n",
    "    m_rf = rf_c(random_state = 0)\n",
    "    m_rf.fit(train_x1, train_y1)\n",
    "    \n",
    "    # test 데이터로 체크\n",
    "    vscore_te.append(m_rf.score(test_x1, test_y1))    # best score = 0.6977949 (0.7)"
   ]
  },
  {
   "cell_type": "code",
   "execution_count": 14,
   "metadata": {},
   "outputs": [
    {
     "data": {
      "text/plain": [
       "[0.6952472986031801,\n",
       " 0.6952472986031801,\n",
       " 0.6952472986031801,\n",
       " 0.6920846876921726,\n",
       " 0.695862250724765,\n",
       " 0.6970921549679346,\n",
       " 0.6923482386014231,\n",
       " 0.697794957392603,\n",
       " 0.6942809452692612,\n",
       " 0.6959501010278486,\n",
       " 0.6928753404199245,\n",
       " 0.6941052446630941,\n",
       " 0.6920846876921726]"
      ]
     },
     "execution_count": 14,
     "metadata": {},
     "output_type": "execute_result"
    }
   ],
   "source": [
    "vscore_te"
   ]
  },
  {
   "cell_type": "code",
   "execution_count": 11,
   "metadata": {},
   "outputs": [
    {
     "data": {
      "text/plain": [
       "<matplotlib.legend.Legend at 0x138ef1610>"
      ]
     },
     "execution_count": 11,
     "metadata": {},
     "output_type": "execute_result"
    },
    {
     "data": {
      "image/png": "[encoded data removed]",
      "text/plain": [
       "<Figure size 432x288 with 1 Axes>"
      ]
     },
     "metadata": {
      "needs_background": "light"
     },
     "output_type": "display_data"
    }
   ],
   "source": [
    "import matplotlib.pyplot as plt\n",
    "plt.plot([0.1, 0.2, 0.3, 0.4, 0.5, 0.6, 0.65, 0.7, 0.75, 0.8, 0.85, 0.9, 0.95],\n",
    "         vscore_te, label = 'vscore_te', color = 'red')\n",
    "plt.legend()"
   ]
  },
  {
   "cell_type": "code",
   "execution_count": 12,
   "metadata": {},
   "outputs": [
    {
     "data": {
      "text/plain": [
       "99    0.697795\n",
       "97    0.696565\n",
       "96    0.696214\n",
       "98    0.695774\n",
       "95    0.695247\n",
       "        ...   \n",
       "4     0.653870\n",
       "3     0.639375\n",
       "2     0.631292\n",
       "0     0.604937\n",
       "1     0.604586\n",
       "Length: 100, dtype: float64"
      ]
     },
     "execution_count": 12,
     "metadata": {},
     "output_type": "execute_result"
    }
   ],
   "source": [
    "# PCA 인공변수 개수 고정 및 RF 매개변수 튜닝\n",
    "from sklearn.decomposition import PCA\n",
    "m_pca = PCA(n_components = 0.7)            # n_components : 인공변수 갯수 \n",
    "m_pca.fit(qdf1)                       # y의 fitting 필요 없음 \n",
    "    \n",
    "train_x_pca = m_pca.transform(qdf1)\n",
    "test_x_pca = m_pca.transform(qdf2)\n",
    "    \n",
    "s1_columns = np.arange(1, len(train_x_pca[1]) + 1)\n",
    "train_x_pca = DataFrame(train_x_pca, columns = s1_columns)\n",
    "test_x_pca = DataFrame(test_x_pca, columns = s1_columns)\n",
    "    \n",
    "c1 = train_x_pca.columns.tolist()\n",
    "c2 = df1.columns.tolist()\n",
    "c3 = c1 + c2\n",
    "    \n",
    "df1_new = DataFrame(np.hstack([train_x_pca, df1]), columns = c3)\n",
    "df2_new = DataFrame(np.hstack([test_x_pca, df2]), columns = c3)\n",
    "\n",
    "# train_test_split \n",
    "train_x1, test_x1, train_y1, test_y1 = train_test_split(df1_new, train_y, random_state= 0)\n",
    "    \n",
    "v_score_te = [] ; v_score_tr = []\n",
    "for i in range(1, 101) :\n",
    "    m_rf = rf(random_state = 0, n_estimators = i)\n",
    "    m_rf.fit(train_x1, train_y1)\n",
    "    v_score_tr.append(m_rf.score(train_x1, train_y1))\n",
    "    v_score_te.append(m_rf.score(test_x1, test_y1))\n",
    "    \n",
    "max(v_score_te)    # 0.697797\n",
    "Series(v_score_te).sort_values(ascending = False)    # i = 100일때 best score    "
   ]
  },
  {
   "cell_type": "code",
   "execution_count": 13,
   "metadata": {},
   "outputs": [
    {
     "data": {
      "text/plain": [
       "[1, 2, 3, 4, 5, 6, 7, 8, 9]"
      ]
     },
     "execution_count": 13,
     "metadata": {},
     "output_type": "execute_result"
    }
   ],
   "source": [
    "c1"
   ]
  },
  {
   "cell_type": "code",
   "execution_count": 14,
   "metadata": {},
   "outputs": [
    {
     "data": {
      "text/html": [
       "<div>\n",
       "<style scoped>\n",
       "    .dataframe tbody tr th:only-of-type {\n",
       "        vertical-align: middle;\n",
       "    }\n",
       "\n",
       "    .dataframe tbody tr th {\n",
       "        vertical-align: top;\n",
       "    }\n",
       "\n",
       "    .dataframe thead th {\n",
       "        text-align: right;\n",
       "    }\n",
       "</style>\n",
       "<table border=\"1\" class=\"dataframe\">\n",
       "  <thead>\n",
       "    <tr style=\"text-align: right;\">\n",
       "      <th></th>\n",
       "      <th>education</th>\n",
       "      <th>engnat</th>\n",
       "      <th>familysize</th>\n",
       "      <th>hand</th>\n",
       "      <th>married</th>\n",
       "      <th>tp01</th>\n",
       "      <th>tp02</th>\n",
       "      <th>tp03</th>\n",
       "      <th>tp04</th>\n",
       "      <th>tp05</th>\n",
       "      <th>tp06</th>\n",
       "      <th>tp07</th>\n",
       "      <th>tp08</th>\n",
       "      <th>tp09</th>\n",
       "      <th>tp10</th>\n",
       "      <th>urban</th>\n",
       "      <th>gender_code</th>\n",
       "      <th>age_group_code</th>\n",
       "      <th>race_code</th>\n",
       "      <th>religion_code</th>\n",
       "    </tr>\n",
       "  </thead>\n",
       "  <tbody>\n",
       "    <tr>\n",
       "      <th>0</th>\n",
       "      <td>-0.578417</td>\n",
       "      <td>-0.605056</td>\n",
       "      <td>-0.004686</td>\n",
       "      <td>-0.364093</td>\n",
       "      <td>2.520215</td>\n",
       "      <td>-0.506672</td>\n",
       "      <td>-0.327448</td>\n",
       "      <td>0.137259</td>\n",
       "      <td>-1.001958</td>\n",
       "      <td>0.457191</td>\n",
       "      <td>-0.735875</td>\n",
       "      <td>2.782444</td>\n",
       "      <td>0.249957</td>\n",
       "      <td>0.931706</td>\n",
       "      <td>-0.765043</td>\n",
       "      <td>-1.547786</td>\n",
       "      <td>-1.065903</td>\n",
       "      <td>0.471411</td>\n",
       "      <td>0.575915</td>\n",
       "      <td>1.950234</td>\n",
       "    </tr>\n",
       "    <tr>\n",
       "      <th>1</th>\n",
       "      <td>1.546264</td>\n",
       "      <td>1.624942</td>\n",
       "      <td>-0.004686</td>\n",
       "      <td>-0.364093</td>\n",
       "      <td>-0.604882</td>\n",
       "      <td>-1.004756</td>\n",
       "      <td>-0.854580</td>\n",
       "      <td>-1.049649</td>\n",
       "      <td>-1.492815</td>\n",
       "      <td>-0.231264</td>\n",
       "      <td>-0.236034</td>\n",
       "      <td>0.542557</td>\n",
       "      <td>0.249957</td>\n",
       "      <td>-1.231904</td>\n",
       "      <td>-0.184584</td>\n",
       "      <td>1.074690</td>\n",
       "      <td>-1.065903</td>\n",
       "      <td>-0.272946</td>\n",
       "      <td>-2.018682</td>\n",
       "      <td>1.043743</td>\n",
       "    </tr>\n",
       "    <tr>\n",
       "      <th>2</th>\n",
       "      <td>0.483924</td>\n",
       "      <td>-0.605056</td>\n",
       "      <td>-0.004686</td>\n",
       "      <td>-0.364093</td>\n",
       "      <td>0.957666</td>\n",
       "      <td>-0.506672</td>\n",
       "      <td>0.199683</td>\n",
       "      <td>-0.456195</td>\n",
       "      <td>0.961467</td>\n",
       "      <td>1.145646</td>\n",
       "      <td>0.763648</td>\n",
       "      <td>-0.017415</td>\n",
       "      <td>1.264447</td>\n",
       "      <td>-0.691001</td>\n",
       "      <td>-0.765043</td>\n",
       "      <td>-0.236548</td>\n",
       "      <td>0.938172</td>\n",
       "      <td>0.471411</td>\n",
       "      <td>0.575915</td>\n",
       "      <td>1.950234</td>\n",
       "    </tr>\n",
       "    <tr>\n",
       "      <th>3</th>\n",
       "      <td>1.546264</td>\n",
       "      <td>1.624942</td>\n",
       "      <td>-0.004687</td>\n",
       "      <td>-0.364093</td>\n",
       "      <td>-0.604882</td>\n",
       "      <td>-0.506672</td>\n",
       "      <td>0.726814</td>\n",
       "      <td>-0.456195</td>\n",
       "      <td>-1.001958</td>\n",
       "      <td>-0.231264</td>\n",
       "      <td>0.263807</td>\n",
       "      <td>-0.577386</td>\n",
       "      <td>-0.257288</td>\n",
       "      <td>-0.691001</td>\n",
       "      <td>-0.765043</td>\n",
       "      <td>1.074690</td>\n",
       "      <td>-1.065903</td>\n",
       "      <td>-0.272946</td>\n",
       "      <td>-2.018682</td>\n",
       "      <td>1.043743</td>\n",
       "    </tr>\n",
       "    <tr>\n",
       "      <th>4</th>\n",
       "      <td>0.483924</td>\n",
       "      <td>-0.605056</td>\n",
       "      <td>-0.004687</td>\n",
       "      <td>-0.364093</td>\n",
       "      <td>0.957666</td>\n",
       "      <td>-1.004756</td>\n",
       "      <td>-0.854580</td>\n",
       "      <td>-0.456195</td>\n",
       "      <td>1.452323</td>\n",
       "      <td>-0.919719</td>\n",
       "      <td>-0.236034</td>\n",
       "      <td>-1.137358</td>\n",
       "      <td>1.264447</td>\n",
       "      <td>-0.150099</td>\n",
       "      <td>0.976335</td>\n",
       "      <td>-1.547786</td>\n",
       "      <td>0.938172</td>\n",
       "      <td>-0.272946</td>\n",
       "      <td>0.575915</td>\n",
       "      <td>-1.071403</td>\n",
       "    </tr>\n",
       "    <tr>\n",
       "      <th>...</th>\n",
       "      <td>...</td>\n",
       "      <td>...</td>\n",
       "      <td>...</td>\n",
       "      <td>...</td>\n",
       "      <td>...</td>\n",
       "      <td>...</td>\n",
       "      <td>...</td>\n",
       "      <td>...</td>\n",
       "      <td>...</td>\n",
       "      <td>...</td>\n",
       "      <td>...</td>\n",
       "      <td>...</td>\n",
       "      <td>...</td>\n",
       "      <td>...</td>\n",
       "      <td>...</td>\n",
       "      <td>...</td>\n",
       "      <td>...</td>\n",
       "      <td>...</td>\n",
       "      <td>...</td>\n",
       "      <td>...</td>\n",
       "    </tr>\n",
       "    <tr>\n",
       "      <th>45527</th>\n",
       "      <td>-0.578417</td>\n",
       "      <td>-0.605056</td>\n",
       "      <td>-0.004687</td>\n",
       "      <td>3.901414</td>\n",
       "      <td>-0.604882</td>\n",
       "      <td>-1.004756</td>\n",
       "      <td>-0.327448</td>\n",
       "      <td>2.511075</td>\n",
       "      <td>-1.001958</td>\n",
       "      <td>0.457191</td>\n",
       "      <td>1.763331</td>\n",
       "      <td>0.542557</td>\n",
       "      <td>-1.779022</td>\n",
       "      <td>2.013511</td>\n",
       "      <td>-0.184584</td>\n",
       "      <td>1.074690</td>\n",
       "      <td>-1.065903</td>\n",
       "      <td>-1.017303</td>\n",
       "      <td>0.575915</td>\n",
       "      <td>1.345907</td>\n",
       "    </tr>\n",
       "    <tr>\n",
       "      <th>45528</th>\n",
       "      <td>-0.578417</td>\n",
       "      <td>-0.605056</td>\n",
       "      <td>-0.004687</td>\n",
       "      <td>-0.364093</td>\n",
       "      <td>-0.604882</td>\n",
       "      <td>-0.506672</td>\n",
       "      <td>-0.327448</td>\n",
       "      <td>0.137259</td>\n",
       "      <td>-0.020246</td>\n",
       "      <td>-0.231264</td>\n",
       "      <td>0.263807</td>\n",
       "      <td>0.542557</td>\n",
       "      <td>0.249957</td>\n",
       "      <td>-0.691001</td>\n",
       "      <td>0.395875</td>\n",
       "      <td>-1.547786</td>\n",
       "      <td>0.938172</td>\n",
       "      <td>0.471411</td>\n",
       "      <td>0.575915</td>\n",
       "      <td>-0.769239</td>\n",
       "    </tr>\n",
       "    <tr>\n",
       "      <th>45529</th>\n",
       "      <td>-0.578417</td>\n",
       "      <td>-0.605056</td>\n",
       "      <td>-0.004687</td>\n",
       "      <td>-0.364093</td>\n",
       "      <td>-0.604882</td>\n",
       "      <td>0.489497</td>\n",
       "      <td>0.726814</td>\n",
       "      <td>0.137259</td>\n",
       "      <td>0.470611</td>\n",
       "      <td>-0.919719</td>\n",
       "      <td>-0.735875</td>\n",
       "      <td>-1.137358</td>\n",
       "      <td>-0.764532</td>\n",
       "      <td>-0.691001</td>\n",
       "      <td>0.976335</td>\n",
       "      <td>-0.236548</td>\n",
       "      <td>-1.065903</td>\n",
       "      <td>-1.017303</td>\n",
       "      <td>0.575915</td>\n",
       "      <td>0.439416</td>\n",
       "    </tr>\n",
       "    <tr>\n",
       "      <th>45530</th>\n",
       "      <td>1.546264</td>\n",
       "      <td>-0.605056</td>\n",
       "      <td>-0.004687</td>\n",
       "      <td>3.901414</td>\n",
       "      <td>-0.604882</td>\n",
       "      <td>-1.004756</td>\n",
       "      <td>-0.327448</td>\n",
       "      <td>-1.049649</td>\n",
       "      <td>0.470611</td>\n",
       "      <td>-0.919719</td>\n",
       "      <td>-0.735875</td>\n",
       "      <td>0.542557</td>\n",
       "      <td>-0.764532</td>\n",
       "      <td>-0.150099</td>\n",
       "      <td>-0.184584</td>\n",
       "      <td>-2.859023</td>\n",
       "      <td>0.938172</td>\n",
       "      <td>1.215767</td>\n",
       "      <td>0.575915</td>\n",
       "      <td>-0.769239</td>\n",
       "    </tr>\n",
       "    <tr>\n",
       "      <th>45531</th>\n",
       "      <td>-0.578417</td>\n",
       "      <td>-0.605056</td>\n",
       "      <td>-0.004686</td>\n",
       "      <td>-0.364093</td>\n",
       "      <td>-0.604882</td>\n",
       "      <td>-0.008587</td>\n",
       "      <td>-0.327448</td>\n",
       "      <td>-0.456195</td>\n",
       "      <td>-0.511102</td>\n",
       "      <td>1.145646</td>\n",
       "      <td>-1.235716</td>\n",
       "      <td>-0.017415</td>\n",
       "      <td>-0.257288</td>\n",
       "      <td>-0.691001</td>\n",
       "      <td>-1.345502</td>\n",
       "      <td>-0.236548</td>\n",
       "      <td>0.938172</td>\n",
       "      <td>-0.272946</td>\n",
       "      <td>0.575915</td>\n",
       "      <td>-1.071403</td>\n",
       "    </tr>\n",
       "  </tbody>\n",
       "</table>\n",
       "<p>45532 rows × 20 columns</p>\n",
       "</div>"
      ],
      "text/plain": [
       "       education    engnat  familysize      hand   married      tp01  \\\n",
       "0      -0.578417 -0.605056   -0.004686 -0.364093  2.520215 -0.506672   \n",
       "1       1.546264  1.624942   -0.004686 -0.364093 -0.604882 -1.004756   \n",
       "2       0.483924 -0.605056   -0.004686 -0.364093  0.957666 -0.506672   \n",
       "3       1.546264  1.624942   -0.004687 -0.364093 -0.604882 -0.506672   \n",
       "4       0.483924 -0.605056   -0.004687 -0.364093  0.957666 -1.004756   \n",
       "...          ...       ...         ...       ...       ...       ...   \n",
       "45527  -0.578417 -0.605056   -0.004687  3.901414 -0.604882 -1.004756   \n",
       "45528  -0.578417 -0.605056   -0.004687 -0.364093 -0.604882 -0.506672   \n",
       "45529  -0.578417 -0.605056   -0.004687 -0.364093 -0.604882  0.489497   \n",
       "45530   1.546264 -0.605056   -0.004687  3.901414 -0.604882 -1.004756   \n",
       "45531  -0.578417 -0.605056   -0.004686 -0.364093 -0.604882 -0.008587   \n",
       "\n",
       "           tp02      tp03      tp04      tp05      tp06      tp07      tp08  \\\n",
       "0     -0.327448  0.137259 -1.001958  0.457191 -0.735875  2.782444  0.249957   \n",
       "1     -0.854580 -1.049649 -1.492815 -0.231264 -0.236034  0.542557  0.249957   \n",
       "2      0.199683 -0.456195  0.961467  1.145646  0.763648 -0.017415  1.264447   \n",
       "3      0.726814 -0.456195 -1.001958 -0.231264  0.263807 -0.577386 -0.257288   \n",
       "4     -0.854580 -0.456195  1.452323 -0.919719 -0.236034 -1.137358  1.264447   \n",
       "...         ...       ...       ...       ...       ...       ...       ...   \n",
       "45527 -0.327448  2.511075 -1.001958  0.457191  1.763331  0.542557 -1.779022   \n",
       "45528 -0.327448  0.137259 -0.020246 -0.231264  0.263807  0.542557  0.249957   \n",
       "45529  0.726814  0.137259  0.470611 -0.919719 -0.735875 -1.137358 -0.764532   \n",
       "45530 -0.327448 -1.049649  0.470611 -0.919719 -0.735875  0.542557 -0.764532   \n",
       "45531 -0.327448 -0.456195 -0.511102  1.145646 -1.235716 -0.017415 -0.257288   \n",
       "\n",
       "           tp09      tp10     urban  gender_code  age_group_code  race_code  \\\n",
       "0      0.931706 -0.765043 -1.547786    -1.065903        0.471411   0.575915   \n",
       "1     -1.231904 -0.184584  1.074690    -1.065903       -0.272946  -2.018682   \n",
       "2     -0.691001 -0.765043 -0.236548     0.938172        0.471411   0.575915   \n",
       "3     -0.691001 -0.765043  1.074690    -1.065903       -0.272946  -2.018682   \n",
       "4     -0.150099  0.976335 -1.547786     0.938172       -0.272946   0.575915   \n",
       "...         ...       ...       ...          ...             ...        ...   \n",
       "45527  2.013511 -0.184584  1.074690    -1.065903       -1.017303   0.575915   \n",
       "45528 -0.691001  0.395875 -1.547786     0.938172        0.471411   0.575915   \n",
       "45529 -0.691001  0.976335 -0.236548    -1.065903       -1.017303   0.575915   \n",
       "45530 -0.150099 -0.184584 -2.859023     0.938172        1.215767   0.575915   \n",
       "45531 -0.691001 -1.345502 -0.236548     0.938172       -0.272946   0.575915   \n",
       "\n",
       "       religion_code  \n",
       "0           1.950234  \n",
       "1           1.043743  \n",
       "2           1.950234  \n",
       "3           1.043743  \n",
       "4          -1.071403  \n",
       "...              ...  \n",
       "45527       1.345907  \n",
       "45528      -0.769239  \n",
       "45529       0.439416  \n",
       "45530      -0.769239  \n",
       "45531      -1.071403  \n",
       "\n",
       "[45532 rows x 20 columns]"
      ]
     },
     "execution_count": 14,
     "metadata": {},
     "output_type": "execute_result"
    }
   ],
   "source": [
    "df1"
   ]
  },
  {
   "cell_type": "code",
   "execution_count": 15,
   "metadata": {},
   "outputs": [
    {
     "data": {
      "text/plain": [
       "<matplotlib.legend.Legend at 0x139053ca0>"
      ]
     },
     "execution_count": 15,
     "metadata": {},
     "output_type": "execute_result"
    },
    {
     "data": {
      "image/png": "[encoded data removed]",
      "text/plain": [
       "<Figure size 432x288 with 1 Axes>"
      ]
     },
     "metadata": {
      "needs_background": "light"
     },
     "output_type": "display_data"
    }
   ],
   "source": [
    "import matplotlib.pyplot as plt\n",
    "plt.plot(np.arange(1, 101), v_score_tr, label = 'v_score_tr')\n",
    "plt.plot(np.arange(1, 101), v_score_te, label = 'v_score_te', color = 'red')\n",
    "plt.legend()    "
   ]
  },
  {
   "cell_type": "code",
   "execution_count": 16,
   "metadata": {},
   "outputs": [],
   "source": [
    "# RF\n",
    "m_rf = rf(random_state = 0, n_estimators = 100)\n",
    "m_rf.fit(df1_new, train_y)\n",
    "\n",
    "pred_y = m_rf.predict(df2_new)\n",
    "submission['voted'] = pred_y"
   ]
  },
  {
   "cell_type": "code",
   "execution_count": 17,
   "metadata": {},
   "outputs": [
    {
     "data": {
      "text/html": [
       "<div>\n",
       "<style scoped>\n",
       "    .dataframe tbody tr th:only-of-type {\n",
       "        vertical-align: middle;\n",
       "    }\n",
       "\n",
       "    .dataframe tbody tr th {\n",
       "        vertical-align: top;\n",
       "    }\n",
       "\n",
       "    .dataframe thead th {\n",
       "        text-align: right;\n",
       "    }\n",
       "</style>\n",
       "<table border=\"1\" class=\"dataframe\">\n",
       "  <thead>\n",
       "    <tr style=\"text-align: right;\">\n",
       "      <th></th>\n",
       "      <th>index</th>\n",
       "      <th>voted</th>\n",
       "    </tr>\n",
       "  </thead>\n",
       "  <tbody>\n",
       "    <tr>\n",
       "      <th>0</th>\n",
       "      <td>0</td>\n",
       "      <td>2</td>\n",
       "    </tr>\n",
       "    <tr>\n",
       "      <th>1</th>\n",
       "      <td>1</td>\n",
       "      <td>2</td>\n",
       "    </tr>\n",
       "    <tr>\n",
       "      <th>2</th>\n",
       "      <td>2</td>\n",
       "      <td>1</td>\n",
       "    </tr>\n",
       "    <tr>\n",
       "      <th>3</th>\n",
       "      <td>3</td>\n",
       "      <td>1</td>\n",
       "    </tr>\n",
       "    <tr>\n",
       "      <th>4</th>\n",
       "      <td>4</td>\n",
       "      <td>2</td>\n",
       "    </tr>\n",
       "    <tr>\n",
       "      <th>...</th>\n",
       "      <td>...</td>\n",
       "      <td>...</td>\n",
       "    </tr>\n",
       "    <tr>\n",
       "      <th>11378</th>\n",
       "      <td>11378</td>\n",
       "      <td>1</td>\n",
       "    </tr>\n",
       "    <tr>\n",
       "      <th>11379</th>\n",
       "      <td>11379</td>\n",
       "      <td>2</td>\n",
       "    </tr>\n",
       "    <tr>\n",
       "      <th>11380</th>\n",
       "      <td>11380</td>\n",
       "      <td>1</td>\n",
       "    </tr>\n",
       "    <tr>\n",
       "      <th>11381</th>\n",
       "      <td>11381</td>\n",
       "      <td>1</td>\n",
       "    </tr>\n",
       "    <tr>\n",
       "      <th>11382</th>\n",
       "      <td>11382</td>\n",
       "      <td>2</td>\n",
       "    </tr>\n",
       "  </tbody>\n",
       "</table>\n",
       "<p>11383 rows × 2 columns</p>\n",
       "</div>"
      ],
      "text/plain": [
       "       index  voted\n",
       "0          0      2\n",
       "1          1      2\n",
       "2          2      1\n",
       "3          3      1\n",
       "4          4      2\n",
       "...      ...    ...\n",
       "11378  11378      1\n",
       "11379  11379      2\n",
       "11380  11380      1\n",
       "11381  11381      1\n",
       "11382  11382      2\n",
       "\n",
       "[11383 rows x 2 columns]"
      ]
     },
     "execution_count": 17,
     "metadata": {},
     "output_type": "execute_result"
    }
   ],
   "source": [
    "submission"
   ]
  },
  {
   "cell_type": "code",
   "execution_count": 18,
   "metadata": {},
   "outputs": [
    {
     "data": {
      "text/plain": [
       "6045"
      ]
     },
     "execution_count": 18,
     "metadata": {},
     "output_type": "execute_result"
    }
   ],
   "source": [
    "sum(submission['voted'] == 1)"
   ]
  },
  {
   "cell_type": "code",
   "execution_count": 19,
   "metadata": {},
   "outputs": [
    {
     "data": {
      "text/plain": [
       "5338"
      ]
     },
     "execution_count": 19,
     "metadata": {},
     "output_type": "execute_result"
    }
   ],
   "source": [
    "sum(submission['voted'] == 2)"
   ]
  },
  {
   "cell_type": "code",
   "execution_count": 20,
   "metadata": {},
   "outputs": [],
   "source": [
    "submission.to_csv('sample_submission_전체_PCA3.csv')    # 0.6998"
   ]
  },
  {
   "cell_type": "code",
   "execution_count": null,
   "metadata": {},
   "outputs": [],
   "source": []
  }
 ],
 "metadata": {
  "kernelspec": {
   "display_name": "Python 3",
   "language": "python",
   "name": "python3"
  },
  "language_info": {
   "codemirror_mode": {
    "name": "ipython",
    "version": 3
   },
   "file_extension": ".py",
   "mimetype": "text/x-python",
   "name": "python",
   "nbconvert_exporter": "python",
   "pygments_lexer": "ipython3",
   "version": "3.8.6"
  }
 },
 "nbformat": 4,
 "nbformat_minor": 4
}
