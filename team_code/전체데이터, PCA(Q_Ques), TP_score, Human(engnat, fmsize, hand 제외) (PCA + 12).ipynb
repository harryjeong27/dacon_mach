{
 "cells": [
  {
   "cell_type": "code",
   "execution_count": null,
   "metadata": {},
   "outputs": [],
   "source": [
    "# 전체데이터, PCA(Q_Ques), TP_score, Human(engnat, fmsize, hand 제외) (PCA + 12)"
   ]
  },
  {
   "cell_type": "code",
   "execution_count": 1,
   "metadata": {},
   "outputs": [],
   "source": [
    "run profile1 "
   ]
  },
  {
   "cell_type": "code",
   "execution_count": 2,
   "metadata": {},
   "outputs": [],
   "source": [
    "# 데이터로딩\n",
    "df1 = pd.read_csv('/Users/harryjeong/python_data/maki_train.csv')\n",
    "df2 = pd.read_csv('/Users/harryjeong/python_data/maki_test_x.csv')\n",
    "submission = pd.read_csv('/Users/harryjeong/python_data/sample_submission.csv')"
   ]
  },
  {
   "cell_type": "code",
   "execution_count": 3,
   "metadata": {},
   "outputs": [],
   "source": [
    "# df1을 종속변수 독립변수로 분리\n",
    "train_y = df1.voted\n",
    "df1 = df1.drop('voted',axis=1)"
   ]
  },
  {
   "cell_type": "code",
   "execution_count": 4,
   "metadata": {},
   "outputs": [],
   "source": [
    "# 제거할 변수 목록 저장         \n",
    "drop1 = ['QaE', 'QbE', 'QcE', 'QdE', 'QeE', 'QfE', 'QgE', 'QhE', 'QiE', 'QkE',\n",
    "          'QjE', 'QlE', 'QmE', 'QnE', 'QoE', 'QpE', 'QqE', 'QrE', 'QsE','QtE',\n",
    "          'wf_01', 'wf_02', 'wf_03', 'wr_01', 'wr_02', 'wr_03', 'wr_04', 'wr_05',\n",
    "       'wr_06', 'wr_07', 'wr_08', 'wr_09', 'wr_10', 'wr_11', 'wr_12', 'wr_13',\n",
    "      'familysize','engnat','hand' ]\n",
    "\n",
    "# df1, df2에서 위 목록 제거\n",
    "df1 = df1.drop(drop1,axis=1)\n",
    "df2 = df2.drop(drop1,axis=1)\n",
    "df1 = df1.iloc[:,1:]\n",
    "df2 = df2.iloc[:,1:]"
   ]
  },
  {
   "cell_type": "code",
   "execution_count": 5,
   "metadata": {},
   "outputs": [],
   "source": [
    "# TP_score 구하기 \n",
    "fea2 = ['tp01','tp02','tp03','tp04','tp05','tp06','tp07','tp08','tp09','tp10']\n",
    "df1.loc[:,fea2] = df1.loc[:,fea2].applymap(lambda x: 7 - x)\n",
    "df2.loc[:,fea2] = df2.loc[:,fea2].applymap(lambda x: 7 - x)\n",
    "\n",
    "# 짝수 질문은 reverse가 필요함 \n",
    "fea3 = ['tp02','tp04','tp06','tp08','tp10']\n",
    "df1.loc[:,fea3] = df1.loc[:,fea3].applymap(lambda x: 0 if x == 0 else 8 - x)\n",
    "df2.loc[:,fea3] = df2.loc[:,fea3].applymap(lambda x: 0 if x == 0 else 8 - x)\n",
    "\n",
    "# train data 의 TIPI 계산\n",
    "df1['성실성']  = (df1.tp03 + df1.tp08)/2\n",
    "df1['친화성']= (df1.tp07 + df1.tp02)/2\n",
    "df1['정서정안정성'] = (df1.tp09 + df1.tp04)/2\n",
    "df1['경험개방성'] = (df1.tp05 + df1.tp10)/2\n",
    "df1['외향성'] =(df1.tp01 + df1.tp06)/2\n",
    "\n",
    "# test data 의 TIPI계산\n",
    "df2['성실성']  = (df2.tp03 + df2.tp08)/2\n",
    "df2['친화성']= (df2.tp07 + df2.tp02)/2\n",
    "df2['정서정안정성'] = (df2.tp09 + df2.tp04)/2\n",
    "df2['경험개방성'] = (df2.tp05 + df2.tp10)/2\n",
    "df2['외향성'] =(df2.tp01 + df2.tp06)/2\n",
    "\n",
    "df1 = df1.drop(fea2,axis=1)\n",
    "df2 = df2.drop(fea2,axis=1)"
   ]
  },
  {
   "cell_type": "code",
   "execution_count": 6,
   "metadata": {},
   "outputs": [],
   "source": [
    "# 라벨인코더 \n",
    "from sklearn.preprocessing import LabelEncoder\n",
    "label = LabelEncoder()\n",
    "df1['gender_code'] = label.fit_transform(df1['gender'])\n",
    "df1['age_group_code'] = label.fit_transform(df1['age_group'])\n",
    "df1['race_code'] = label.fit_transform(df1['race'])\n",
    "df1['religion_code'] = label.fit_transform(df1['religion'])\n",
    "\n",
    "df2['gender_code'] = label.fit_transform(df2['gender'])\n",
    "df2['age_group_code'] = label.fit_transform(df2['age_group'])\n",
    "df2['race_code'] = label.fit_transform(df2['race'])\n",
    "df2['religion_code'] = label.fit_transform(df2['religion'])\n",
    "\n",
    "drop3= ['gender','age_group','race','religion']\n",
    "df1 = df1.drop(drop3,axis=1)\n",
    "df2= df2.drop(drop3,axis=1)"
   ]
  },
  {
   "cell_type": "code",
   "execution_count": 7,
   "metadata": {},
   "outputs": [],
   "source": [
    "# 스케일링 \n",
    "from sklearn.preprocessing import StandardScaler as standard\n",
    "m_sc = standard()\n",
    "m_sc.fit(df1)\n",
    "train_x_sc = m_sc.transform(df1)\n",
    "test_x_sc = m_sc.transform(df2)\n",
    "\n",
    "# 데이터프레임으로 변경\n",
    "df1 = DataFrame(train_x_sc, columns = df1.columns.tolist())\n",
    "df2 = DataFrame(test_x_sc,columns = df1.columns.tolist())"
   ]
  },
  {
   "cell_type": "code",
   "execution_count": 8,
   "metadata": {},
   "outputs": [],
   "source": [
    "# Q_Ques만 뽑아서 PCA 진행\n",
    "Q_Ques = ['QaA', 'QbA', 'QcA', 'QdA', 'QeA',\n",
    "           'QfA', 'QgA', 'QhA', 'QiA', 'QjA', \n",
    "           'QkA', 'QlA', 'QmA', 'QnA', 'QoA', \n",
    "           'QpA', 'QqA', 'QrA', 'QsA', 'QtA']\n",
    "\n",
    "# Q_Ques 선택한 변수 세팅\n",
    "qdf1 = df1.loc[:,Q_Ques]\n",
    "qdf2 = df2.loc[:,Q_Ques]\n",
    "\n",
    "# 추후 합해야 하므로 Q_Ques 제거한 변수 세팅\n",
    "df1 = df1.drop(Q_Ques,axis=1)\n",
    "df2 = df2.drop(Q_Ques,axis=1)"
   ]
  },
  {
   "cell_type": "code",
   "execution_count": 10,
   "metadata": {},
   "outputs": [],
   "source": [
    "# PCA\n",
    "vscore_te = []\n",
    "for i in [0.1, 0.2, 0.3, 0.4, 0.5, 0.6, 0.65, 0.7, 0.75, 0.8, 0.85, 0.9, 0.95] :\n",
    "    from sklearn.decomposition import PCA\n",
    "    m_pca = PCA(n_components = i)            # n_components : 인공변수 갯수 \n",
    "    m_pca.fit(qdf1)                       # y의 fitting 필요 없음 \n",
    "    \n",
    "    train_x_pca = m_pca.transform(qdf1)\n",
    "    test_x_pca = m_pca.transform(qdf2)\n",
    "    \n",
    "    s1_columns = np.arange(1, len(train_x_pca[1]) + 1)\n",
    "    train_x_pca = DataFrame(train_x_pca, columns = s1_columns)\n",
    "    test_x_pca = DataFrame(test_x_pca, columns = s1_columns)   \n",
    "    \n",
    "    c1 = train_x_pca.columns.tolist()\n",
    "    c2 = df1.columns.tolist()\n",
    "    c3 = c1 + c2\n",
    "    \n",
    "    df1_new = DataFrame(np.hstack([train_x_pca, df1]), columns = c3)\n",
    "    df2_new = DataFrame(np.hstack([test_x_pca, df2]), columns = c3)\n",
    "    \n",
    "    # train_test_split \n",
    "    train_x1, test_x1, train_y1, test_y1 = train_test_split(df1_new, train_y, random_state= 0)\n",
    "    \n",
    "    # RF\n",
    "    m_rf = rf(random_state = 0)\n",
    "    m_rf.fit(train_x1, train_y1)\n",
    "    \n",
    "    # test 데이터로 체크\n",
    "    vscore_te.append(m_rf.score(test_x1, test_y1))    # 0.694 / 0.85"
   ]
  },
  {
   "cell_type": "code",
   "execution_count": 11,
   "metadata": {},
   "outputs": [
    {
     "data": {
      "text/plain": [
       "[0.6902398313274181,\n",
       " 0.6902398313274181,\n",
       " 0.6902398313274181,\n",
       " 0.6899762804181675,\n",
       " 0.6916454361767548,\n",
       " 0.6905912325397523,\n",
       " 0.6932267416322586,\n",
       " 0.6911183343582535,\n",
       " 0.689273477993499,\n",
       " 0.690064130721251,\n",
       " 0.6941052446630941,\n",
       " 0.6920846876921726,\n",
       " 0.693929544056927]"
      ]
     },
     "execution_count": 11,
     "metadata": {},
     "output_type": "execute_result"
    }
   ],
   "source": [
    "vscore_te"
   ]
  },
  {
   "cell_type": "code",
   "execution_count": 12,
   "metadata": {},
   "outputs": [
    {
     "data": {
      "text/plain": [
       "<matplotlib.legend.Legend at 0x132b28220>"
      ]
     },
     "execution_count": 12,
     "metadata": {},
     "output_type": "execute_result"
    },
    {
     "data": {
      "image/png": "[encoded data removed]",
      "text/plain": [
       "<Figure size 432x288 with 1 Axes>"
      ]
     },
     "metadata": {
      "needs_background": "light"
     },
     "output_type": "display_data"
    }
   ],
   "source": [
    "import matplotlib.pyplot as plt\n",
    "plt.plot([0.1, 0.2, 0.3, 0.4, 0.5, 0.6, 0.65, 0.7, 0.75, 0.8, 0.85, 0.9, 0.95], vscore_te, label = 'vscore')\n",
    "plt.legend()"
   ]
  },
  {
   "cell_type": "code",
   "execution_count": 13,
   "metadata": {},
   "outputs": [
    {
     "data": {
      "text/plain": [
       "87    0.694193\n",
       "99    0.694105\n",
       "93    0.693842\n",
       "95    0.693402\n",
       "89    0.693227\n",
       "        ...   \n",
       "4     0.639989\n",
       "3     0.632698\n",
       "2     0.627515\n",
       "0     0.604849\n",
       "1     0.601160\n",
       "Length: 100, dtype: float64"
      ]
     },
     "execution_count": 13,
     "metadata": {},
     "output_type": "execute_result"
    }
   ],
   "source": [
    "# PCA 인공변수 개수 고정 및 RF 매개변수 튜닝\n",
    "from sklearn.decomposition import PCA\n",
    "m_pca = PCA(n_components = 0.85)            # n_components : 인공변수 갯수 \n",
    "m_pca.fit(qdf1)                       # y의 fitting 필요 없음 \n",
    "    \n",
    "train_x_pca = m_pca.transform(qdf1)\n",
    "test_x_pca = m_pca.transform(qdf2)\n",
    "    \n",
    "s1_columns = np.arange(1, len(train_x_pca[1]) + 1)\n",
    "train_x_pca = DataFrame(train_x_pca, columns = s1_columns)\n",
    "test_x_pca = DataFrame(test_x_pca, columns = s1_columns)\n",
    "    \n",
    "c1 = train_x_pca.columns.tolist()\n",
    "c2 = df1.columns.tolist()\n",
    "c3 = c1 + c2\n",
    "    \n",
    "df1_new = DataFrame(np.hstack([train_x_pca, df1]), columns = c3)\n",
    "df2_new = DataFrame(np.hstack([test_x_pca, df2]), columns = c3)\n",
    "\n",
    "# train_test_split \n",
    "train_x1, test_x1, train_y1, test_y1 = train_test_split(df1_new, train_y, random_state= 0)\n",
    "    \n",
    "v_score_te = [] ; v_score_tr = []\n",
    "for i in range(1, 101) :\n",
    "    m_rf = rf(random_state = 0, n_estimators = i)\n",
    "    m_rf.fit(train_x1, train_y1)\n",
    "    v_score_tr.append(m_rf.score(train_x1, train_y1))\n",
    "    v_score_te.append(m_rf.score(test_x1, test_y1))\n",
    "    \n",
    "max(v_score_te)    # 0.694193\n",
    "Series(v_score_te).sort_values(ascending = False)    # i = 88일때 best score    "
   ]
  },
  {
   "cell_type": "code",
   "execution_count": 15,
   "metadata": {},
   "outputs": [
    {
     "data": {
      "text/plain": [
       "<matplotlib.legend.Legend at 0x134e4c8e0>"
      ]
     },
     "execution_count": 15,
     "metadata": {},
     "output_type": "execute_result"
    },
    {
     "data": {
      "image/png": "[encoded data removed]",
      "text/plain": [
       "<Figure size 432x288 with 1 Axes>"
      ]
     },
     "metadata": {
      "needs_background": "light"
     },
     "output_type": "display_data"
    }
   ],
   "source": [
    "import matplotlib.pyplot as plt\n",
    "plt.plot(np.arange(1, 101), v_score_tr, label = 'v_score_tr')\n",
    "plt.plot(np.arange(1, 101), v_score_te, label = 'v_score_te', color = 'red')\n",
    "plt.legend()    "
   ]
  },
  {
   "cell_type": "code",
   "execution_count": 16,
   "metadata": {},
   "outputs": [],
   "source": [
    "# RF\n",
    "m_rf = rf(random_state = 0, n_estimators = 88)\n",
    "m_rf.fit(df1_new, train_y)\n",
    "\n",
    "pred_y = m_rf.predict(df2_new)\n",
    "submission['voted'] = pred_y"
   ]
  },
  {
   "cell_type": "code",
   "execution_count": 17,
   "metadata": {},
   "outputs": [
    {
     "data": {
      "text/plain": [
       "6091"
      ]
     },
     "execution_count": 17,
     "metadata": {},
     "output_type": "execute_result"
    }
   ],
   "source": [
    "sum(submission['voted'] == 1)"
   ]
  },
  {
   "cell_type": "code",
   "execution_count": 18,
   "metadata": {},
   "outputs": [
    {
     "data": {
      "text/plain": [
       "5292"
      ]
     },
     "execution_count": 18,
     "metadata": {},
     "output_type": "execute_result"
    }
   ],
   "source": [
    "sum(submission['voted'] == 2)"
   ]
  },
  {
   "cell_type": "code",
   "execution_count": 22,
   "metadata": {},
   "outputs": [],
   "source": [
    "submission.to_csv('sample_submission_전체_PCA2.csv')    # 0.6958"
   ]
  },
  {
   "cell_type": "code",
   "execution_count": null,
   "metadata": {},
   "outputs": [],
   "source": []
  }
 ],
 "metadata": {
  "kernelspec": {
   "display_name": "Python 3",
   "language": "python",
   "name": "python3"
  },
  "language_info": {
   "codemirror_mode": {
    "name": "ipython",
    "version": 3
   },
   "file_extension": ".py",
   "mimetype": "text/x-python",
   "name": "python",
   "nbconvert_exporter": "python",
   "pygments_lexer": "ipython3",
   "version": "3.8.6"
  }
 },
 "nbformat": 4,
 "nbformat_minor": 4
}
